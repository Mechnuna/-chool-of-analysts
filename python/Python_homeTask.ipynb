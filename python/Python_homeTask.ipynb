{
 "metadata": {
  "language_info": {
   "codemirror_mode": {
    "name": "ipython",
    "version": 3
   },
   "file_extension": ".py",
   "mimetype": "text/x-python",
   "name": "python",
   "nbconvert_exporter": "python",
   "pygments_lexer": "ipython3",
   "version": 3
  },
  "orig_nbformat": 2
 },
 "nbformat": 4,
 "nbformat_minor": 2,
 "cells": [
  {
   "cell_type": "code",
   "execution_count": null,
   "metadata": {},
   "outputs": [],
   "source": [
    "nums = [0, 27, 15, -15]\n",
    "\n",
    "target = 12\n",
    "\n",
    "\n",
    "def num_search(nums, target):\n",
    "    for i in nums:\n",
    "        i2 = target - i\n",
    "        if i2 in nums and i != i2:\n",
    "            return (nums.index(i), nums.index(i2))\n",
    "\n",
    "print(num_search(nums, target))"
   ]
  }
 ]
}