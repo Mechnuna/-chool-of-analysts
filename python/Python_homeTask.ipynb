{
 "metadata": {
  "language_info": {
   "codemirror_mode": {
    "name": "ipython",
    "version": 3
   },
   "file_extension": ".py",
   "mimetype": "text/x-python",
   "name": "python",
   "nbconvert_exporter": "python",
   "pygments_lexer": "ipython3",
   "version": "3.9.4-final"
  },
  "orig_nbformat": 2,
  "kernelspec": {
   "name": "python3",
   "display_name": "Python 3.9.4 64-bit",
   "metadata": {
    "interpreter": {
     "hash": "aee8b7b246df8f9039afb4144a1f6fd8d2ca17a180786b69acc140d282b71a49"
    }
   }
  }
 },
 "nbformat": 4,
 "nbformat_minor": 2,
 "cells": [
  {
   "cell_type": "code",
   "execution_count": 2,
   "metadata": {},
   "outputs": [
    {
     "output_type": "stream",
     "name": "stdout",
     "text": [
      "(1, 2)\n"
     ]
    }
   ],
   "source": [
    "nums = list(map(int,input(\"Введите числа в массив\").split()))\n",
    "target = int(input(\"Введите число\"))\n",
    "\n",
    "\n",
    "def num_search(nums, target):\n",
    "    for i in nums:\n",
    "        i2 = target - i\n",
    "        if i2 in nums and i != i2:\n",
    "            return (nums.index(i), nums.index(i2))\n",
    "\n",
    "print(num_search(nums, target))"
   ]
  }
 ]
}